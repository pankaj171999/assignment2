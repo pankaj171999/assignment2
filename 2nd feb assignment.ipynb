{
 "cells": [
  {
   "cell_type": "code",
   "execution_count": 1,
   "id": "23fcf268-9e3f-4d68-b729-a6dc52d0ef5a",
   "metadata": {},
   "outputs": [
    {
     "name": "stdout",
     "output_type": "stream",
     "text": [
      "pankaj\n",
      "pankaj\n",
      "pankaj\n",
      "pankaj\n",
      "pankaj\n",
      "pankaj\n",
      "pankaj\n",
      "pankaj\n",
      "pankaj\n",
      "pankaj\n"
     ]
    }
   ],
   "source": [
    "#Q1\n",
    "#Python While Loop is used to execute a block of statements repeatedly until a given condition is satisfied. \n",
    "#And when the condition becomes false, the line immediately after the loop in the program is executed.\n",
    "# example\n",
    "count=1\n",
    "while(count<=5):\n",
    "    print(\"pankaj\")\n",
    "    count=count+1\n",
    "    \n",
    "#In Python, the for loop is used to run a block of code for a certain number of times.\n",
    "#It is used to iterate over any sequences such as list, tuple, string, etc.\n",
    "#example\n",
    "for i in range (5):\n",
    "    print('pankaj')\n"
   ]
  },
  {
   "cell_type": "code",
   "execution_count": 6,
   "id": "dc0c200a-060a-4448-88b9-89176391000a",
   "metadata": {},
   "outputs": [
    {
     "name": "stdout",
     "output_type": "stream",
     "text": [
      "sum of first ten natural number =  55\n",
      "product of first ten natural number = 3628800\n"
     ]
    }
   ],
   "source": [
    "#Q2 with while loop\n",
    "count=1\n",
    "sum=0\n",
    "product=1\n",
    "while count <=10:\n",
    "    sum= sum + count\n",
    "    product= product*count\n",
    "    count=count+1\n",
    "print(\"sum of first ten natural number = \",sum)\n",
    "print(\"product of first ten natural number =\",product)\n",
    "    \n",
    "    "
   ]
  },
  {
   "cell_type": "code",
   "execution_count": 19,
   "id": "a090c0ab-1342-4e03-880a-5e4e25eb2cad",
   "metadata": {},
   "outputs": [
    {
     "name": "stdout",
     "output_type": "stream",
     "text": [
      "sum of first ten natural number =  55\n",
      "product of first ten natural number = 3628800\n"
     ]
    }
   ],
   "source": [
    "#Q2 with for loop\n",
    "sum=0\n",
    "product=1\n",
    "for i in range(1,11):\n",
    "    sum= sum + i\n",
    "    product= product*i\n",
    "print(\"sum of first ten natural number = \",sum)\n",
    "print(\"product of first ten natural number =\",product)\n",
    "    \n"
   ]
  },
  {
   "cell_type": "code",
   "execution_count": 29,
   "id": "2e4eff4a-cd6e-4485-b9ad-8c36e194612f",
   "metadata": {},
   "outputs": [
    {
     "name": "stdin",
     "output_type": "stream",
     "text": [
      "Enter the electricity bill unit 310\n"
     ]
    },
    {
     "name": "stdout",
     "output_type": "stream",
     "text": [
      "your electricity bill 2250.0\n"
     ]
    }
   ],
   "source": [
    "#Q3\n",
    "n=int(input(\"Enter the electricity bill unit\"))\n",
    "if n<=100:\n",
    "    charge=4.5*n\n",
    "    print(\"your electricity bill\",charge)\n",
    "elif n>100 and n<=200:\n",
    "    charge=4.5*100 + 6*(n-100)\n",
    "    print(\"your electricity bill\",charge)\n",
    "elif n>200 and n<=300:\n",
    "    charge=4.5*100 + 6*100 + 10*(n-200)\n",
    "    print(\"your electricity bill\",charge)\n",
    "elif n>300:\n",
    "    charge=4.5*100 + 6*100 + 10*100 + 20*(n-300)\n",
    "    print(\"your electricity bill\",charge)  \n",
    "    \n"
   ]
  },
  {
   "cell_type": "code",
   "execution_count": 11,
   "id": "d79f3a4f-d61c-418d-847b-6a70b870b5ab",
   "metadata": {},
   "outputs": [
    {
     "name": "stdout",
     "output_type": "stream",
     "text": [
      "[1000, 8000, 27000, 64000, 125000, 216000, 343000, 512000, 729000, 1000000]\n"
     ]
    }
   ],
   "source": [
    "#Q4 using for loop\n",
    "list (range(1,101))\n",
    "l2=[]\n",
    "for i in range(1,101):\n",
    "    l=i**3\n",
    "    if l%4==0 and l%5==0:\n",
    "        l2.append(l) \n",
    "print(l2)    \n",
    "       \n",
    "\n",
    "\n"
   ]
  },
  {
   "cell_type": "code",
   "execution_count": 11,
   "id": "7ba1dbd4-cbea-4719-987d-7b1dbb3fb57e",
   "metadata": {},
   "outputs": [
    {
     "name": "stdout",
     "output_type": "stream",
     "text": [
      "Number of vowel in the given string is 12\n"
     ]
    }
   ],
   "source": [
    "#Q5\n",
    "string=\"i want to become an data scientist\"\n",
    "count=0\n",
    "for i in range(len(string)):\n",
    "    if((string[i]==\"a\")\n",
    "      or (string[i]==\"e\")\n",
    "      or (string[i]==\"i\")\n",
    "      or (string[i]==\"o\")\n",
    "      or (string[i]==\"u\")):\n",
    "        count=count+1\n",
    "print(\"Number of vowel in the given string is\",count)"
   ]
  },
  {
   "cell_type": "code",
   "execution_count": null,
   "id": "a3383105-9e06-4303-85ca-f9830906d8a6",
   "metadata": {},
   "outputs": [],
   "source": []
  }
 ],
 "metadata": {
  "kernelspec": {
   "display_name": "Python 3 (ipykernel)",
   "language": "python",
   "name": "python3"
  },
  "language_info": {
   "codemirror_mode": {
    "name": "ipython",
    "version": 3
   },
   "file_extension": ".py",
   "mimetype": "text/x-python",
   "name": "python",
   "nbconvert_exporter": "python",
   "pygments_lexer": "ipython3",
   "version": "3.10.8"
  }
 },
 "nbformat": 4,
 "nbformat_minor": 5
}
